{
  "nbformat": 4,
  "nbformat_minor": 0,
  "metadata": {
    "colab": {
      "name": "audiobooks_purcashing.ipynb",
      "provenance": [],
      "collapsed_sections": [],
      "toc_visible": true
    },
    "kernelspec": {
      "name": "python3",
      "display_name": "Python 3"
    },
    "language_info": {
      "name": "python"
    }
  },
  "cells": [
    {
      "cell_type": "code",
      "metadata": {
        "id": "IFI9UaiJs5oS"
      },
      "source": [
        "import numpy as np\n",
        "import pandas as pd\n",
        "import matplotlib.pyplot as plt\n",
        "import seaborn as sns\n",
        "import tensorflow as tf\n",
        "from sklearn import preprocessing"
      ],
      "execution_count": 1,
      "outputs": []
    },
    {
      "cell_type": "code",
      "metadata": {
        "colab": {
          "base_uri": "https://localhost:8080/"
        },
        "id": "kYdWaaxXBxDd",
        "outputId": "6cb9f3f0-8c2a-4a21-c4b3-33c4d7e8664f"
      },
      "source": [
        "print(tf.__version__)"
      ],
      "execution_count": 16,
      "outputs": [
        {
          "output_type": "stream",
          "text": [
            "2.4.1\n"
          ],
          "name": "stdout"
        }
      ]
    },
    {
      "cell_type": "code",
      "metadata": {
        "colab": {
          "base_uri": "https://localhost:8080/",
          "height": 505
        },
        "id": "b5Yrvya757kv",
        "outputId": "0e1f4283-9731-4c2f-892e-a5e3bc8c4f93"
      },
      "source": [
        "df = pd.read_csv('/content/Audiobooks_data.csv')\n",
        "df"
      ],
      "execution_count": 12,
      "outputs": [
        {
          "output_type": "execute_result",
          "data": {
            "text/html": [
              "<div>\n",
              "<style scoped>\n",
              "    .dataframe tbody tr th:only-of-type {\n",
              "        vertical-align: middle;\n",
              "    }\n",
              "\n",
              "    .dataframe tbody tr th {\n",
              "        vertical-align: top;\n",
              "    }\n",
              "\n",
              "    .dataframe thead th {\n",
              "        text-align: right;\n",
              "    }\n",
              "</style>\n",
              "<table border=\"1\" class=\"dataframe\">\n",
              "  <thead>\n",
              "    <tr style=\"text-align: right;\">\n",
              "      <th></th>\n",
              "      <th>ID</th>\n",
              "      <th>Book length (mins) overall</th>\n",
              "      <th>Book length (mins) avg</th>\n",
              "      <th>Price overall</th>\n",
              "      <th>Price avg</th>\n",
              "      <th>Review</th>\n",
              "      <th>Review 10/10</th>\n",
              "      <th>Minutes listened</th>\n",
              "      <th>Completion</th>\n",
              "      <th>Support requests</th>\n",
              "      <th>Last visited minus Purchase date</th>\n",
              "      <th>Targets</th>\n",
              "    </tr>\n",
              "  </thead>\n",
              "  <tbody>\n",
              "    <tr>\n",
              "      <th>0</th>\n",
              "      <td>994</td>\n",
              "      <td>1620.0</td>\n",
              "      <td>1620</td>\n",
              "      <td>19.73</td>\n",
              "      <td>19.73</td>\n",
              "      <td>1</td>\n",
              "      <td>10.00</td>\n",
              "      <td>0.99</td>\n",
              "      <td>1603.8</td>\n",
              "      <td>5</td>\n",
              "      <td>92</td>\n",
              "      <td>0</td>\n",
              "    </tr>\n",
              "    <tr>\n",
              "      <th>1</th>\n",
              "      <td>1143</td>\n",
              "      <td>2160.0</td>\n",
              "      <td>2160</td>\n",
              "      <td>5.33</td>\n",
              "      <td>5.33</td>\n",
              "      <td>0</td>\n",
              "      <td>8.91</td>\n",
              "      <td>0.00</td>\n",
              "      <td>0.0</td>\n",
              "      <td>0</td>\n",
              "      <td>0</td>\n",
              "      <td>0</td>\n",
              "    </tr>\n",
              "    <tr>\n",
              "      <th>2</th>\n",
              "      <td>2059</td>\n",
              "      <td>2160.0</td>\n",
              "      <td>2160</td>\n",
              "      <td>5.33</td>\n",
              "      <td>5.33</td>\n",
              "      <td>0</td>\n",
              "      <td>8.91</td>\n",
              "      <td>0.00</td>\n",
              "      <td>0.0</td>\n",
              "      <td>0</td>\n",
              "      <td>388</td>\n",
              "      <td>0</td>\n",
              "    </tr>\n",
              "    <tr>\n",
              "      <th>3</th>\n",
              "      <td>2882</td>\n",
              "      <td>1620.0</td>\n",
              "      <td>1620</td>\n",
              "      <td>5.96</td>\n",
              "      <td>5.96</td>\n",
              "      <td>0</td>\n",
              "      <td>8.91</td>\n",
              "      <td>0.42</td>\n",
              "      <td>680.4</td>\n",
              "      <td>1</td>\n",
              "      <td>129</td>\n",
              "      <td>0</td>\n",
              "    </tr>\n",
              "    <tr>\n",
              "      <th>4</th>\n",
              "      <td>3342</td>\n",
              "      <td>2160.0</td>\n",
              "      <td>2160</td>\n",
              "      <td>5.33</td>\n",
              "      <td>5.33</td>\n",
              "      <td>0</td>\n",
              "      <td>8.91</td>\n",
              "      <td>0.22</td>\n",
              "      <td>475.2</td>\n",
              "      <td>0</td>\n",
              "      <td>361</td>\n",
              "      <td>0</td>\n",
              "    </tr>\n",
              "    <tr>\n",
              "      <th>...</th>\n",
              "      <td>...</td>\n",
              "      <td>...</td>\n",
              "      <td>...</td>\n",
              "      <td>...</td>\n",
              "      <td>...</td>\n",
              "      <td>...</td>\n",
              "      <td>...</td>\n",
              "      <td>...</td>\n",
              "      <td>...</td>\n",
              "      <td>...</td>\n",
              "      <td>...</td>\n",
              "      <td>...</td>\n",
              "    </tr>\n",
              "    <tr>\n",
              "      <th>14079</th>\n",
              "      <td>28220</td>\n",
              "      <td>1620.0</td>\n",
              "      <td>1620</td>\n",
              "      <td>5.33</td>\n",
              "      <td>5.33</td>\n",
              "      <td>1</td>\n",
              "      <td>9.00</td>\n",
              "      <td>0.61</td>\n",
              "      <td>988.2</td>\n",
              "      <td>0</td>\n",
              "      <td>4</td>\n",
              "      <td>0</td>\n",
              "    </tr>\n",
              "    <tr>\n",
              "      <th>14080</th>\n",
              "      <td>28671</td>\n",
              "      <td>1080.0</td>\n",
              "      <td>1080</td>\n",
              "      <td>6.55</td>\n",
              "      <td>6.55</td>\n",
              "      <td>1</td>\n",
              "      <td>6.00</td>\n",
              "      <td>0.29</td>\n",
              "      <td>313.2</td>\n",
              "      <td>0</td>\n",
              "      <td>29</td>\n",
              "      <td>0</td>\n",
              "    </tr>\n",
              "    <tr>\n",
              "      <th>14081</th>\n",
              "      <td>31134</td>\n",
              "      <td>2160.0</td>\n",
              "      <td>2160</td>\n",
              "      <td>6.14</td>\n",
              "      <td>6.14</td>\n",
              "      <td>0</td>\n",
              "      <td>8.91</td>\n",
              "      <td>0.00</td>\n",
              "      <td>0.0</td>\n",
              "      <td>0</td>\n",
              "      <td>0</td>\n",
              "      <td>0</td>\n",
              "    </tr>\n",
              "    <tr>\n",
              "      <th>14082</th>\n",
              "      <td>32832</td>\n",
              "      <td>1620.0</td>\n",
              "      <td>1620</td>\n",
              "      <td>5.33</td>\n",
              "      <td>5.33</td>\n",
              "      <td>1</td>\n",
              "      <td>8.00</td>\n",
              "      <td>0.38</td>\n",
              "      <td>615.6</td>\n",
              "      <td>0</td>\n",
              "      <td>90</td>\n",
              "      <td>0</td>\n",
              "    </tr>\n",
              "    <tr>\n",
              "      <th>14083</th>\n",
              "      <td>251</td>\n",
              "      <td>1674.0</td>\n",
              "      <td>3348</td>\n",
              "      <td>5.33</td>\n",
              "      <td>10.67</td>\n",
              "      <td>0</td>\n",
              "      <td>8.91</td>\n",
              "      <td>0.00</td>\n",
              "      <td>0.0</td>\n",
              "      <td>0</td>\n",
              "      <td>0</td>\n",
              "      <td>1</td>\n",
              "    </tr>\n",
              "  </tbody>\n",
              "</table>\n",
              "<p>14084 rows × 12 columns</p>\n",
              "</div>"
            ],
            "text/plain": [
              "          ID  ...  Targets\n",
              "0        994  ...        0\n",
              "1       1143  ...        0\n",
              "2       2059  ...        0\n",
              "3       2882  ...        0\n",
              "4       3342  ...        0\n",
              "...      ...  ...      ...\n",
              "14079  28220  ...        0\n",
              "14080  28671  ...        0\n",
              "14081  31134  ...        0\n",
              "14082  32832  ...        0\n",
              "14083    251  ...        1\n",
              "\n",
              "[14084 rows x 12 columns]"
            ]
          },
          "metadata": {
            "tags": []
          },
          "execution_count": 12
        }
      ]
    },
    {
      "cell_type": "code",
      "metadata": {
        "colab": {
          "base_uri": "https://localhost:8080/"
        },
        "id": "uuObG95j72y1",
        "outputId": "0ca72ec2-b3a9-449b-e71e-fd6af89c60bf"
      },
      "source": [
        "df.info()"
      ],
      "execution_count": 13,
      "outputs": [
        {
          "output_type": "stream",
          "text": [
            "<class 'pandas.core.frame.DataFrame'>\n",
            "RangeIndex: 14084 entries, 0 to 14083\n",
            "Data columns (total 12 columns):\n",
            " #   Column                            Non-Null Count  Dtype  \n",
            "---  ------                            --------------  -----  \n",
            " 0   ID                                14084 non-null  int64  \n",
            " 1   Book length (mins) overall        14084 non-null  float64\n",
            " 2   Book length (mins) avg            14084 non-null  int64  \n",
            " 3   Price overall                     14084 non-null  float64\n",
            " 4   Price avg                         14084 non-null  float64\n",
            " 5   Review                            14084 non-null  int64  \n",
            " 6   Review 10/10                      14084 non-null  float64\n",
            " 7   Minutes listened                  14084 non-null  float64\n",
            " 8   Completion                        14084 non-null  float64\n",
            " 9   Support requests                  14084 non-null  int64  \n",
            " 10  Last visited minus Purchase date  14084 non-null  int64  \n",
            " 11  Targets                           14084 non-null  int64  \n",
            "dtypes: float64(6), int64(6)\n",
            "memory usage: 1.3 MB\n"
          ],
          "name": "stdout"
        }
      ]
    },
    {
      "cell_type": "markdown",
      "metadata": {
        "id": "9bicn_1q7452"
      },
      "source": [
        "Description:\n",
        "\n",
        "**ID:** User ID <br>\n",
        "**Book length (mins) overall:** The sum of the lengths of purchased books <br>\n",
        "**Book length (mins) avg:** The sum of the length divided by the number of purchases<br>\n",
        "**Price overall:** Total price of purchased books <br>\n",
        "**Price avg:** Total price of purchased books divided by the number of purchases <br>\n",
        "**Review:** Boolean data to shows if the customer left a review or not <br>\n",
        "**Review 10/10:** Measures the review from a customer from 1 to 10 <br>\n",
        "**Minutes listened:** Total minutes of a customer to listen to the book <br>\n",
        "**Completion:** percentage of minutes listened by book length overall<br>\n",
        "**Support requests:** Number of a customer to use support requests (forgotten password to assistance)<br>\n",
        "**Last visited minus Purchase date:** The difference between first purchasing and last time thee customer accessing the platform.<br>\n",
        "**Targets:** To show if the customer would buy another book for the next six months or not. If yes, the target is 1. If not, the target is 0 "
      ]
    },
    {
      "cell_type": "code",
      "metadata": {
        "colab": {
          "base_uri": "https://localhost:8080/",
          "height": 383
        },
        "id": "qKhPczdVAy9y",
        "outputId": "f92768ff-29cd-471d-82d1-6e72ba3f98e2"
      },
      "source": [
        "df.describe()"
      ],
      "execution_count": 14,
      "outputs": [
        {
          "output_type": "execute_result",
          "data": {
            "text/html": [
              "<div>\n",
              "<style scoped>\n",
              "    .dataframe tbody tr th:only-of-type {\n",
              "        vertical-align: middle;\n",
              "    }\n",
              "\n",
              "    .dataframe tbody tr th {\n",
              "        vertical-align: top;\n",
              "    }\n",
              "\n",
              "    .dataframe thead th {\n",
              "        text-align: right;\n",
              "    }\n",
              "</style>\n",
              "<table border=\"1\" class=\"dataframe\">\n",
              "  <thead>\n",
              "    <tr style=\"text-align: right;\">\n",
              "      <th></th>\n",
              "      <th>ID</th>\n",
              "      <th>Book length (mins) overall</th>\n",
              "      <th>Book length (mins) avg</th>\n",
              "      <th>Price overall</th>\n",
              "      <th>Price avg</th>\n",
              "      <th>Review</th>\n",
              "      <th>Review 10/10</th>\n",
              "      <th>Minutes listened</th>\n",
              "      <th>Completion</th>\n",
              "      <th>Support requests</th>\n",
              "      <th>Last visited minus Purchase date</th>\n",
              "      <th>Targets</th>\n",
              "    </tr>\n",
              "  </thead>\n",
              "  <tbody>\n",
              "    <tr>\n",
              "      <th>count</th>\n",
              "      <td>14084.000000</td>\n",
              "      <td>14084.000000</td>\n",
              "      <td>14084.000000</td>\n",
              "      <td>14084.000000</td>\n",
              "      <td>14084.000000</td>\n",
              "      <td>14084.000000</td>\n",
              "      <td>14084.000000</td>\n",
              "      <td>14084.000000</td>\n",
              "      <td>14084.000000</td>\n",
              "      <td>14084.000000</td>\n",
              "      <td>14084.000000</td>\n",
              "      <td>14084.000000</td>\n",
              "    </tr>\n",
              "    <tr>\n",
              "      <th>mean</th>\n",
              "      <td>16772.491551</td>\n",
              "      <td>1591.281685</td>\n",
              "      <td>1678.608634</td>\n",
              "      <td>7.103791</td>\n",
              "      <td>7.543805</td>\n",
              "      <td>0.160750</td>\n",
              "      <td>8.909795</td>\n",
              "      <td>0.125659</td>\n",
              "      <td>189.888983</td>\n",
              "      <td>0.070222</td>\n",
              "      <td>61.935033</td>\n",
              "      <td>0.158833</td>\n",
              "    </tr>\n",
              "    <tr>\n",
              "      <th>std</th>\n",
              "      <td>9691.807248</td>\n",
              "      <td>504.340663</td>\n",
              "      <td>654.838599</td>\n",
              "      <td>4.931673</td>\n",
              "      <td>5.560129</td>\n",
              "      <td>0.367313</td>\n",
              "      <td>0.643406</td>\n",
              "      <td>0.241206</td>\n",
              "      <td>371.084010</td>\n",
              "      <td>0.472157</td>\n",
              "      <td>88.207634</td>\n",
              "      <td>0.365533</td>\n",
              "    </tr>\n",
              "    <tr>\n",
              "      <th>min</th>\n",
              "      <td>2.000000</td>\n",
              "      <td>216.000000</td>\n",
              "      <td>216.000000</td>\n",
              "      <td>3.860000</td>\n",
              "      <td>3.860000</td>\n",
              "      <td>0.000000</td>\n",
              "      <td>1.000000</td>\n",
              "      <td>0.000000</td>\n",
              "      <td>0.000000</td>\n",
              "      <td>0.000000</td>\n",
              "      <td>0.000000</td>\n",
              "      <td>0.000000</td>\n",
              "    </tr>\n",
              "    <tr>\n",
              "      <th>25%</th>\n",
              "      <td>8368.000000</td>\n",
              "      <td>1188.000000</td>\n",
              "      <td>1188.000000</td>\n",
              "      <td>5.330000</td>\n",
              "      <td>5.330000</td>\n",
              "      <td>0.000000</td>\n",
              "      <td>8.910000</td>\n",
              "      <td>0.000000</td>\n",
              "      <td>0.000000</td>\n",
              "      <td>0.000000</td>\n",
              "      <td>0.000000</td>\n",
              "      <td>0.000000</td>\n",
              "    </tr>\n",
              "    <tr>\n",
              "      <th>50%</th>\n",
              "      <td>16711.500000</td>\n",
              "      <td>1620.000000</td>\n",
              "      <td>1620.000000</td>\n",
              "      <td>5.950000</td>\n",
              "      <td>6.070000</td>\n",
              "      <td>0.000000</td>\n",
              "      <td>8.910000</td>\n",
              "      <td>0.000000</td>\n",
              "      <td>0.000000</td>\n",
              "      <td>0.000000</td>\n",
              "      <td>11.000000</td>\n",
              "      <td>0.000000</td>\n",
              "    </tr>\n",
              "    <tr>\n",
              "      <th>75%</th>\n",
              "      <td>25187.250000</td>\n",
              "      <td>2160.000000</td>\n",
              "      <td>2160.000000</td>\n",
              "      <td>8.000000</td>\n",
              "      <td>8.000000</td>\n",
              "      <td>0.000000</td>\n",
              "      <td>8.910000</td>\n",
              "      <td>0.130000</td>\n",
              "      <td>194.400000</td>\n",
              "      <td>0.000000</td>\n",
              "      <td>105.000000</td>\n",
              "      <td>0.000000</td>\n",
              "    </tr>\n",
              "    <tr>\n",
              "      <th>max</th>\n",
              "      <td>33683.000000</td>\n",
              "      <td>2160.000000</td>\n",
              "      <td>7020.000000</td>\n",
              "      <td>130.940000</td>\n",
              "      <td>130.940000</td>\n",
              "      <td>1.000000</td>\n",
              "      <td>10.000000</td>\n",
              "      <td>1.000000</td>\n",
              "      <td>2160.000000</td>\n",
              "      <td>30.000000</td>\n",
              "      <td>464.000000</td>\n",
              "      <td>1.000000</td>\n",
              "    </tr>\n",
              "  </tbody>\n",
              "</table>\n",
              "</div>"
            ],
            "text/plain": [
              "                 ID  ...       Targets\n",
              "count  14084.000000  ...  14084.000000\n",
              "mean   16772.491551  ...      0.158833\n",
              "std     9691.807248  ...      0.365533\n",
              "min        2.000000  ...      0.000000\n",
              "25%     8368.000000  ...      0.000000\n",
              "50%    16711.500000  ...      0.000000\n",
              "75%    25187.250000  ...      0.000000\n",
              "max    33683.000000  ...      1.000000\n",
              "\n",
              "[8 rows x 12 columns]"
            ]
          },
          "metadata": {
            "tags": []
          },
          "execution_count": 14
        }
      ]
    },
    {
      "cell_type": "markdown",
      "metadata": {
        "id": "UyqawPzhA3z5"
      },
      "source": [
        "The next step is put inputs and targets into numpy array."
      ]
    },
    {
      "cell_type": "code",
      "metadata": {
        "id": "W3X3cJw--72d"
      },
      "source": [
        "raw_csv = np.loadtxt('/content/Audiobooks_data.csv', delimiter=',')\n",
        "unscaled_inputs = raw_csv[:, 1:-1]\n",
        "targets = raw_csv[:, -1]"
      ],
      "execution_count": 2,
      "outputs": []
    },
    {
      "cell_type": "code",
      "metadata": {
        "colab": {
          "base_uri": "https://localhost:8080/",
          "height": 337
        },
        "id": "avLgmibb49Pv",
        "outputId": "8b0d2ebc-c1f0-406c-ec09-e4c743cf0265"
      },
      "source": [
        "sns.countplot(targets)"
      ],
      "execution_count": 10,
      "outputs": [
        {
          "output_type": "stream",
          "text": [
            "/usr/local/lib/python3.7/dist-packages/seaborn/_decorators.py:43: FutureWarning: Pass the following variable as a keyword arg: x. From version 0.12, the only valid positional argument will be `data`, and passing other arguments without an explicit keyword will result in an error or misinterpretation.\n",
            "  FutureWarning\n"
          ],
          "name": "stderr"
        },
        {
          "output_type": "execute_result",
          "data": {
            "text/plain": [
              "<matplotlib.axes._subplots.AxesSubplot at 0x7f15a6d0c310>"
            ]
          },
          "metadata": {
            "tags": []
          },
          "execution_count": 10
        },
        {
          "output_type": "display_data",
          "data": {
            "image/png": "[encoded data removed]",
            "text/plain": [
              "<Figure size 432x288 with 1 Axes>"
            ]
          },
          "metadata": {
            "tags": [],
            "needs_background": "light"
          }
        }
      ]
    },
    {
      "cell_type": "markdown",
      "metadata": {
        "id": "WU_hpSnk5cOk"
      },
      "source": [
        "Based on this visualization, we know that the dataset is highly unbalanced. Therefore, we should delete some of 0 class until frequency of class 0 is same as class 1"
      ]
    },
    {
      "cell_type": "markdown",
      "metadata": {
        "id": "FhFenxTW_Nib"
      },
      "source": [
        "#Balancing Dataset"
      ]
    },
    {
      "cell_type": "code",
      "metadata": {
        "id": "3SYoukY1_PdN"
      },
      "source": [
        "#Delete 0s to make 0s same count as 1s\n",
        "\n",
        "num_one_targets = int(np.sum(targets))\n",
        "zero_targets_counter = 0\n",
        "indices_to_remove = []\n",
        "\n",
        "for i in range(targets.shape[0]):\n",
        "    if targets[i]==0:\n",
        "        zero_targets_counter+=1\n",
        "        if zero_targets_counter > num_one_targets:\n",
        "            indices_to_remove.append(i)\n",
        "\n",
        "unscaled_inputs_balanced = np.delete(unscaled_inputs, indices_to_remove, axis=0)\n",
        "targets_balanced = np.delete(targets, indices_to_remove, axis=0)"
      ],
      "execution_count": null,
      "outputs": []
    },
    {
      "cell_type": "markdown",
      "metadata": {
        "id": "RQhW2VTwCPBR"
      },
      "source": [
        "#Standardize the inputs"
      ]
    },
    {
      "cell_type": "code",
      "metadata": {
        "colab": {
          "base_uri": "https://localhost:8080/"
        },
        "id": "7SD8QxdBCQ8l",
        "outputId": "6b31b723-9776-49e1-ab1e-04d71633a99b"
      },
      "source": [
        "scaled_inputs = preprocessing.scale(unscaled_inputs_balanced)\n",
        "scaled_inputs"
      ],
      "execution_count": null,
      "outputs": [
        {
          "output_type": "execute_result",
          "data": {
            "text/plain": [
              "array([[ 0.21053387, -0.18888517,  1.97823887, ...,  4.80955413,\n",
              "        11.83828419,  0.09415043],\n",
              "       [ 1.27894497,  0.41646744, -0.39082475, ..., -0.41569922,\n",
              "        -0.20183481, -0.80255852],\n",
              "       [ 1.27894497,  0.41646744, -0.39082475, ..., -0.41569922,\n",
              "        -0.20183481,  2.979214  ],\n",
              "       ...,\n",
              "       [ 1.27894497,  0.41646744, -0.39082475, ..., -0.41569922,\n",
              "        -0.20183481, -0.7440775 ],\n",
              "       [ 0.31737498,  1.7482432 ,  0.04679395, ..., -0.41569922,\n",
              "        -0.20183481, -0.80255852],\n",
              "       [ 0.31737498,  1.7482432 , -0.39082475, ..., -0.41569922,\n",
              "        -0.20183481, -0.80255852]])"
            ]
          },
          "metadata": {
            "tags": []
          },
          "execution_count": 5
        }
      ]
    },
    {
      "cell_type": "markdown",
      "metadata": {
        "id": "vjsi8-S_H7Bu"
      },
      "source": [
        "#Shuffle Dataset"
      ]
    },
    {
      "cell_type": "code",
      "metadata": {
        "id": "RdfqTjk_CX8P"
      },
      "source": [
        "shuffled_indices = np.arange(scaled_inputs.shape[0])\n",
        "np.random.shuffle(shuffled_indices)\n",
        "\n",
        "shuffled_inputs = scaled_inputs[shuffled_indices]\n",
        "shuffled_targets = targets_balanced[shuffled_indices]"
      ],
      "execution_count": null,
      "outputs": []
    },
    {
      "cell_type": "code",
      "metadata": {
        "colab": {
          "base_uri": "https://localhost:8080/"
        },
        "id": "4Wj8pZLCHbTr",
        "outputId": "2b0cfa5e-4587-4617-8bd9-37d005599f5f"
      },
      "source": [
        "shuffled_inputs"
      ],
      "execution_count": null,
      "outputs": [
        {
          "output_type": "execute_result",
          "data": {
            "text/plain": [
              "array([[[ 0.21053387, -0.18888517,  1.97823887, ...,  4.80955413,\n",
              "         11.83828419,  0.09415043],\n",
              "        [ 1.27894497,  0.41646744, -0.39082475, ..., -0.41569922,\n",
              "         -0.20183481, -0.80255852],\n",
              "        [ 1.27894497,  0.41646744, -0.39082475, ..., -0.41569922,\n",
              "         -0.20183481,  2.979214  ],\n",
              "        ...,\n",
              "        [ 1.27894497,  0.41646744, -0.39082475, ..., -0.41569922,\n",
              "         -0.20183481, -0.7440775 ],\n",
              "        [ 0.31737498,  1.7482432 ,  0.04679395, ..., -0.41569922,\n",
              "         -0.20183481, -0.80255852],\n",
              "        [ 0.31737498,  1.7482432 , -0.39082475, ..., -0.41569922,\n",
              "         -0.20183481, -0.80255852]]])"
            ]
          },
          "metadata": {
            "tags": []
          },
          "execution_count": 38
        }
      ]
    },
    {
      "cell_type": "markdown",
      "metadata": {
        "id": "Nf-HS864D4PZ"
      },
      "source": [
        "#Train-Validation-Test split"
      ]
    },
    {
      "cell_type": "code",
      "metadata": {
        "id": "2SoSS2lzDGRU",
        "colab": {
          "base_uri": "https://localhost:8080/"
        },
        "outputId": "1fd3fc40-df72-4856-a7ba-b3dd11c45b8e"
      },
      "source": [
        "samples_count = shuffled_inputs.shape[0]\n",
        "\n",
        "train_samples_count = int(0.8*samples_count)\n",
        "validation_samples_count = int(0.1*samples_count)\n",
        "test_samples_count = samples_count - train_samples_count - validation_samples_count\n",
        "\n",
        "train_inputs = shuffled_inputs[:train_samples_count]\n",
        "train_targets = shuffled_targets[:train_samples_count]\n",
        "\n",
        "validation_inputs = shuffled_inputs[train_samples_count:train_samples_count+validation_samples_count]\n",
        "validation_targets = shuffled_targets[train_samples_count:train_samples_count+validation_samples_count]\n",
        "\n",
        "test_inputs = shuffled_inputs[train_samples_count+validation_samples_count:]\n",
        "test_targets = shuffled_targets[train_samples_count+validation_samples_count:]\n",
        "\n",
        "print(np.sum(train_targets), train_samples_count, np.sum(train_targets) / train_samples_count)\n",
        "print(np.sum(validation_targets), validation_samples_count, np.sum(validation_targets) / validation_samples_count)\n",
        "print(np.sum(test_targets), test_samples_count, np.sum(test_targets) / test_samples_count)"
      ],
      "execution_count": null,
      "outputs": [
        {
          "output_type": "stream",
          "text": [
            "1805.0 3579 0.5043308186644314\n",
            "225.0 447 0.5033557046979866\n",
            "207.0 448 0.46205357142857145\n"
          ],
          "name": "stdout"
        }
      ]
    },
    {
      "cell_type": "markdown",
      "metadata": {
        "id": "ckLM07XmH_c4"
      },
      "source": [
        "Save all three dataset in npz"
      ]
    },
    {
      "cell_type": "code",
      "metadata": {
        "id": "H23hkUooICFT"
      },
      "source": [
        "np.savez('Audiobooks_data_train', inputs=train_inputs, targets=train_targets)\n",
        "np.savez('Audiobooks_data_validation', inputs=validation_inputs, targets=validation_targets)\n",
        "np.savez('Audiobooks_data_test', inputs=test_inputs, targets=test_targets)"
      ],
      "execution_count": null,
      "outputs": []
    },
    {
      "cell_type": "markdown",
      "metadata": {
        "id": "OZseeLKTvs49"
      },
      "source": [
        "#Using TF 1"
      ]
    },
    {
      "cell_type": "markdown",
      "metadata": {
        "id": "soNE-z6qcNW9"
      },
      "source": [
        "##Create method for data batching"
      ]
    },
    {
      "cell_type": "code",
      "metadata": {
        "id": "Ns3qsShHcRJ9"
      },
      "source": [
        "class Audiobooks_Data_Reader():\n",
        "    \n",
        "    def __init__(self, dataset, batch_size = None):\n",
        "        \n",
        "        npz = np.load('Audiobooks_data_{0}.npz'.format(dataset))\n",
        "\n",
        "        self.inputs, self.targets = npz['inputs'].astype(np.float), npz['targets'].astype(np.int)\n",
        "\n",
        "        if batch_size is None:\n",
        "            self.batch_size = self.inputs.shape[0]\n",
        "        else:\n",
        "            self.batch_size = batch_size\n",
        "        self.curr_batch = 0\n",
        "        self.batch_count = self.inputs.shape[0] // self.batch_size\n",
        "\n",
        "    def __next__(self):\n",
        "        if self.curr_batch >= self.batch_count:\n",
        "            self.curr_batch = 0\n",
        "            raise StopIteration()\n",
        "        \n",
        "        batch_slice = slice(self.curr_batch * self.batch_size, (self.curr_batch + 1) * self.batch_size)\n",
        "        inputs_batch = self.inputs[batch_slice]\n",
        "        targets_batch = self.targets[batch_slice]\n",
        "        self.curr_batch +=1\n",
        "\n",
        "        classes_num = 2\n",
        "        targets_one_hot = np.zeros((targets_batch.shape[0], classes_num))\n",
        "        targets_one_hot[range(targets_batch.shape[0]), targets_batch] = 1\n",
        "\n",
        "        return inputs_batch, targets_one_hot\n",
        "   \n",
        "    def __iter__(self):\n",
        "        return self"
      ],
      "execution_count": null,
      "outputs": []
    },
    {
      "cell_type": "markdown",
      "metadata": {
        "id": "Xvdim328h8dK"
      },
      "source": [
        "##Build The Model"
      ]
    },
    {
      "cell_type": "code",
      "metadata": {
        "colab": {
          "base_uri": "https://localhost:8080/"
        },
        "id": "tbOhPte5h-LO",
        "outputId": "8877a883-f056-4dee-bf93-47d30ab451a7"
      },
      "source": [
        "!pip install tensorflow==1.14\n",
        "import tensorflow as tf\n",
        "print(tf.__version__)"
      ],
      "execution_count": null,
      "outputs": [
        {
          "output_type": "stream",
          "text": [
            "/usr/local/lib/python3.7/dist-packages/tensorflow/python/framework/dtypes.py:516: FutureWarning: Passing (type, 1) or '1type' as a synonym of type is deprecated; in a future version of numpy, it will be understood as (type, (1,)) / '(1,)type'.\n",
            "  _np_qint8 = np.dtype([(\"qint8\", np.int8, 1)])\n",
            "/usr/local/lib/python3.7/dist-packages/tensorflow/python/framework/dtypes.py:517: FutureWarning: Passing (type, 1) or '1type' as a synonym of type is deprecated; in a future version of numpy, it will be understood as (type, (1,)) / '(1,)type'.\n",
            "  _np_quint8 = np.dtype([(\"quint8\", np.uint8, 1)])\n",
            "/usr/local/lib/python3.7/dist-packages/tensorflow/python/framework/dtypes.py:518: FutureWarning: Passing (type, 1) or '1type' as a synonym of type is deprecated; in a future version of numpy, it will be understood as (type, (1,)) / '(1,)type'.\n",
            "  _np_qint16 = np.dtype([(\"qint16\", np.int16, 1)])\n",
            "/usr/local/lib/python3.7/dist-packages/tensorflow/python/framework/dtypes.py:519: FutureWarning: Passing (type, 1) or '1type' as a synonym of type is deprecated; in a future version of numpy, it will be understood as (type, (1,)) / '(1,)type'.\n",
            "  _np_quint16 = np.dtype([(\"quint16\", np.uint16, 1)])\n",
            "/usr/local/lib/python3.7/dist-packages/tensorflow/python/framework/dtypes.py:520: FutureWarning: Passing (type, 1) or '1type' as a synonym of type is deprecated; in a future version of numpy, it will be understood as (type, (1,)) / '(1,)type'.\n",
            "  _np_qint32 = np.dtype([(\"qint32\", np.int32, 1)])\n",
            "/usr/local/lib/python3.7/dist-packages/tensorflow/python/framework/dtypes.py:525: FutureWarning: Passing (type, 1) or '1type' as a synonym of type is deprecated; in a future version of numpy, it will be understood as (type, (1,)) / '(1,)type'.\n",
            "  np_resource = np.dtype([(\"resource\", np.ubyte, 1)])\n"
          ],
          "name": "stderr"
        },
        {
          "output_type": "stream",
          "text": [
            "1.14.0\n"
          ],
          "name": "stdout"
        },
        {
          "output_type": "stream",
          "text": [
            "/usr/local/lib/python3.7/dist-packages/tensorboard/compat/tensorflow_stub/dtypes.py:541: FutureWarning: Passing (type, 1) or '1type' as a synonym of type is deprecated; in a future version of numpy, it will be understood as (type, (1,)) / '(1,)type'.\n",
            "  _np_qint8 = np.dtype([(\"qint8\", np.int8, 1)])\n",
            "/usr/local/lib/python3.7/dist-packages/tensorboard/compat/tensorflow_stub/dtypes.py:542: FutureWarning: Passing (type, 1) or '1type' as a synonym of type is deprecated; in a future version of numpy, it will be understood as (type, (1,)) / '(1,)type'.\n",
            "  _np_quint8 = np.dtype([(\"quint8\", np.uint8, 1)])\n",
            "/usr/local/lib/python3.7/dist-packages/tensorboard/compat/tensorflow_stub/dtypes.py:543: FutureWarning: Passing (type, 1) or '1type' as a synonym of type is deprecated; in a future version of numpy, it will be understood as (type, (1,)) / '(1,)type'.\n",
            "  _np_qint16 = np.dtype([(\"qint16\", np.int16, 1)])\n",
            "/usr/local/lib/python3.7/dist-packages/tensorboard/compat/tensorflow_stub/dtypes.py:544: FutureWarning: Passing (type, 1) or '1type' as a synonym of type is deprecated; in a future version of numpy, it will be understood as (type, (1,)) / '(1,)type'.\n",
            "  _np_quint16 = np.dtype([(\"quint16\", np.uint16, 1)])\n",
            "/usr/local/lib/python3.7/dist-packages/tensorboard/compat/tensorflow_stub/dtypes.py:545: FutureWarning: Passing (type, 1) or '1type' as a synonym of type is deprecated; in a future version of numpy, it will be understood as (type, (1,)) / '(1,)type'.\n",
            "  _np_qint32 = np.dtype([(\"qint32\", np.int32, 1)])\n",
            "/usr/local/lib/python3.7/dist-packages/tensorboard/compat/tensorflow_stub/dtypes.py:550: FutureWarning: Passing (type, 1) or '1type' as a synonym of type is deprecated; in a future version of numpy, it will be understood as (type, (1,)) / '(1,)type'.\n",
            "  np_resource = np.dtype([(\"resource\", np.ubyte, 1)])\n"
          ],
          "name": "stderr"
        }
      ]
    },
    {
      "cell_type": "markdown",
      "metadata": {
        "id": "k_y53bjsvkRX"
      },
      "source": [
        "##Model Training"
      ]
    },
    {
      "cell_type": "code",
      "metadata": {
        "colab": {
          "base_uri": "https://localhost:8080/"
        },
        "id": "QuqVTZdnGEBq",
        "outputId": "b2f85afb-3a23-4e0c-9c43-afbfd4f80d74"
      },
      "source": [
        "input_size = 10\n",
        "output_size = 2\n",
        "hidden_layer_size = 100\n",
        "\n",
        "tf.reset_default_graph()\n",
        "\n",
        "inputs = tf.placeholder(tf.float32, [None, input_size])\n",
        "targets = tf.placeholder(tf.int32, [None, output_size])\n",
        "\n",
        "weights_1 = tf.get_variable(\"weights_1\", [input_size, hidden_layer_size])\n",
        "biases_1 = tf.get_variable(\"biases_1\", [hidden_layer_size])\n",
        "\n",
        "outputs_1 = tf.nn.relu(tf.matmul(inputs,weights_1) + biases_1)\n",
        "\n",
        "\n",
        "weights_2 = tf.get_variable(\"weights_2\", [hidden_layer_size, hidden_layer_size])\n",
        "biases_2 = tf.get_variable(\"biases_2\",[hidden_layer_size])\n",
        "\n",
        "outputs_2 = tf.nn.relu(tf.matmul(outputs_1,weights_2) + biases_2)\n",
        "\n",
        "weights_3 = tf.get_variable(\"weights_3\", [hidden_layer_size, hidden_layer_size])\n",
        "biases_3 = tf.get_variable(\"biases_3\",[hidden_layer_size])\n",
        "\n",
        "outputs_3 = tf.nn.sigmoid(tf.matmul(outputs_1,weights_2) + biases_3)\n",
        "\n",
        "weights_4 = tf.get_variable(\"weights_4\", [hidden_layer_size, output_size])\n",
        "biases_4 = tf.get_variable(\"biases_4\", [output_size])\n",
        "\n",
        "outputs = tf.matmul(outputs_3, weights_4) + biases_4\n",
        "\n",
        "\n",
        "loss = tf.nn.softmax_cross_entropy_with_logits(logits = outputs, labels = targets)\n",
        "\n",
        "mean_loss = tf.reduce_mean(loss)\n",
        "\n",
        "optimize = tf.train.AdamOptimizer(learning_rate=0.001).minimize(mean_loss)\n",
        "\n",
        "out_equals_target = tf.equal(tf.argmax(outputs,1), tf.argmax(targets,1))\n",
        "\n",
        "accuracy = tf.reduce_mean(tf.cast(out_equals_target, tf.float32))\n",
        "\n",
        "\n",
        "sess = tf.InteractiveSession()\n",
        "\n",
        "initializer = tf.global_variables_initializer()\n",
        "\n",
        "sess.run(initializer)\n",
        "\n",
        "\n",
        "batch_size = 40\n",
        "\n",
        "max_epochs = 100\n",
        "\n",
        "prev_validation_loss = 9999999.\n",
        "\n",
        "train_data = Audiobooks_Data_Reader('train', batch_size)\n",
        "validation_data = Audiobooks_Data_Reader ('validation')\n",
        "\n",
        "for epoch_counter in range(max_epochs):\n",
        "    \n",
        "    curr_epoch_loss = 0.\n",
        "    \n",
        "    for input_batch, target_batch in train_data:\n",
        "        _, batch_loss = sess.run([optimize, mean_loss], \n",
        "            feed_dict={inputs: input_batch, targets: target_batch})\n",
        "        \n",
        "        curr_epoch_loss += batch_loss\n",
        "        \n",
        "    curr_epoch_loss /= train_data.batch_count\n",
        "    \n",
        "    validation_loss = 0.\n",
        "    validation_accuracy = 0.\n",
        "    \n",
        "    for input_batch, target_batch in validation_data:\n",
        "        validation_loss, validation_accuracy = sess.run([mean_loss, accuracy], \n",
        "        feed_dict={inputs: input_batch, targets: target_batch})   \n",
        "        \n",
        "    print('Epoch '+str(epoch_counter+1)+\n",
        "          '. Training loss: '+'{0:.3f}'.format(curr_epoch_loss)+\n",
        "          '. Validation loss: '+'{0:.3f}'.format(validation_loss)+\n",
        "          '. Validation accuracy: '+'{0:.2f}'.format(validation_accuracy * 100.)+'%')\n",
        "    \n",
        "    if validation_loss > prev_validation_loss:\n",
        "        break\n",
        "        \n",
        "    prev_validation_loss = validation_loss\n",
        "    \n",
        "print('End of training.')"
      ],
      "execution_count": null,
      "outputs": [
        {
          "output_type": "stream",
          "text": [
            "/usr/local/lib/python3.7/dist-packages/tensorflow/python/client/session.py:1735: UserWarning: An interactive session is already active. This can cause out-of-memory errors in some cases. You must explicitly call `InteractiveSession.close()` to release resources held by the other session(s).\n",
            "  warnings.warn('An interactive session is already active. This can '\n"
          ],
          "name": "stderr"
        },
        {
          "output_type": "stream",
          "text": [
            "Epoch 1. Training loss: 0.546. Validation loss: 0.478. Validation accuracy: 72.04%\n",
            "Epoch 2. Training loss: 0.408. Validation loss: 0.435. Validation accuracy: 76.06%\n",
            "Epoch 3. Training loss: 0.374. Validation loss: 0.419. Validation accuracy: 76.51%\n",
            "Epoch 4. Training loss: 0.357. Validation loss: 0.410. Validation accuracy: 77.18%\n",
            "Epoch 5. Training loss: 0.348. Validation loss: 0.406. Validation accuracy: 76.96%\n",
            "Epoch 6. Training loss: 0.341. Validation loss: 0.403. Validation accuracy: 77.18%\n",
            "Epoch 7. Training loss: 0.337. Validation loss: 0.400. Validation accuracy: 77.63%\n",
            "Epoch 8. Training loss: 0.333. Validation loss: 0.397. Validation accuracy: 78.30%\n",
            "Epoch 9. Training loss: 0.331. Validation loss: 0.395. Validation accuracy: 77.40%\n",
            "Epoch 10. Training loss: 0.329. Validation loss: 0.394. Validation accuracy: 77.63%\n",
            "Epoch 11. Training loss: 0.327. Validation loss: 0.392. Validation accuracy: 77.40%\n",
            "Epoch 12. Training loss: 0.325. Validation loss: 0.391. Validation accuracy: 77.85%\n",
            "Epoch 13. Training loss: 0.324. Validation loss: 0.390. Validation accuracy: 78.08%\n",
            "Epoch 14. Training loss: 0.323. Validation loss: 0.389. Validation accuracy: 78.08%\n",
            "Epoch 15. Training loss: 0.322. Validation loss: 0.388. Validation accuracy: 78.08%\n",
            "Epoch 16. Training loss: 0.321. Validation loss: 0.387. Validation accuracy: 78.30%\n",
            "Epoch 17. Training loss: 0.320. Validation loss: 0.386. Validation accuracy: 78.30%\n",
            "Epoch 18. Training loss: 0.319. Validation loss: 0.386. Validation accuracy: 78.30%\n",
            "Epoch 19. Training loss: 0.319. Validation loss: 0.385. Validation accuracy: 78.52%\n",
            "Epoch 20. Training loss: 0.318. Validation loss: 0.384. Validation accuracy: 78.52%\n",
            "Epoch 21. Training loss: 0.318. Validation loss: 0.384. Validation accuracy: 78.52%\n",
            "Epoch 22. Training loss: 0.317. Validation loss: 0.383. Validation accuracy: 78.52%\n",
            "Epoch 23. Training loss: 0.317. Validation loss: 0.382. Validation accuracy: 78.52%\n",
            "Epoch 24. Training loss: 0.316. Validation loss: 0.382. Validation accuracy: 78.52%\n",
            "Epoch 25. Training loss: 0.316. Validation loss: 0.382. Validation accuracy: 78.52%\n",
            "Epoch 26. Training loss: 0.315. Validation loss: 0.381. Validation accuracy: 78.52%\n",
            "Epoch 27. Training loss: 0.315. Validation loss: 0.381. Validation accuracy: 78.75%\n",
            "Epoch 28. Training loss: 0.315. Validation loss: 0.380. Validation accuracy: 78.97%\n",
            "Epoch 29. Training loss: 0.314. Validation loss: 0.380. Validation accuracy: 78.97%\n",
            "Epoch 30. Training loss: 0.314. Validation loss: 0.379. Validation accuracy: 78.97%\n",
            "Epoch 31. Training loss: 0.314. Validation loss: 0.379. Validation accuracy: 78.97%\n",
            "Epoch 32. Training loss: 0.313. Validation loss: 0.379. Validation accuracy: 78.97%\n",
            "Epoch 33. Training loss: 0.313. Validation loss: 0.378. Validation accuracy: 78.97%\n",
            "Epoch 34. Training loss: 0.313. Validation loss: 0.378. Validation accuracy: 78.75%\n",
            "Epoch 35. Training loss: 0.313. Validation loss: 0.378. Validation accuracy: 78.52%\n",
            "Epoch 36. Training loss: 0.312. Validation loss: 0.377. Validation accuracy: 78.52%\n",
            "Epoch 37. Training loss: 0.312. Validation loss: 0.377. Validation accuracy: 78.52%\n",
            "Epoch 38. Training loss: 0.312. Validation loss: 0.377. Validation accuracy: 78.75%\n",
            "Epoch 39. Training loss: 0.312. Validation loss: 0.377. Validation accuracy: 79.19%\n",
            "Epoch 40. Training loss: 0.311. Validation loss: 0.376. Validation accuracy: 78.97%\n",
            "Epoch 41. Training loss: 0.311. Validation loss: 0.376. Validation accuracy: 78.75%\n",
            "Epoch 42. Training loss: 0.311. Validation loss: 0.376. Validation accuracy: 78.75%\n",
            "Epoch 43. Training loss: 0.311. Validation loss: 0.376. Validation accuracy: 78.75%\n",
            "Epoch 44. Training loss: 0.311. Validation loss: 0.376. Validation accuracy: 78.75%\n",
            "Epoch 45. Training loss: 0.311. Validation loss: 0.375. Validation accuracy: 78.75%\n",
            "Epoch 46. Training loss: 0.310. Validation loss: 0.375. Validation accuracy: 78.75%\n",
            "End of training.\n"
          ],
          "name": "stdout"
        }
      ]
    },
    {
      "cell_type": "markdown",
      "metadata": {
        "id": "AZ6WgpAsoAbZ"
      },
      "source": [
        "##Test The Model"
      ]
    },
    {
      "cell_type": "code",
      "metadata": {
        "colab": {
          "base_uri": "https://localhost:8080/"
        },
        "id": "9xVbyyFIky8X",
        "outputId": "089f2576-bd04-43e2-8abb-f1ca3eb497a6"
      },
      "source": [
        "test_data = Audiobooks_Data_Reader('test')\n",
        "\n",
        "for input_batch, target_batch in test_data:\n",
        "        test_accuracy = sess.run([accuracy], \n",
        "        feed_dict={inputs: input_batch, targets: target_batch})\n",
        "\n",
        "test_accuracy_percent = test_accuracy[0]*100\n",
        "print(f'Test accuracy: {test_accuracy_percent:.2f}%')"
      ],
      "execution_count": null,
      "outputs": [
        {
          "output_type": "stream",
          "text": [
            "Test accuracy: 84.38%\n"
          ],
          "name": "stdout"
        }
      ]
    },
    {
      "cell_type": "markdown",
      "metadata": {
        "id": "YGaYRsSgn6Fw"
      },
      "source": [
        "#Using TF 2"
      ]
    },
    {
      "cell_type": "code",
      "metadata": {
        "id": "0PNkKLReBs13"
      },
      "source": [
        "!pip install tensorflow==2.4.1\n",
        "import tensorflow as tf\n",
        "print(tf.__version__)"
      ],
      "execution_count": null,
      "outputs": []
    },
    {
      "cell_type": "markdown",
      "metadata": {
        "id": "j9ujJGp3ow2t"
      },
      "source": [
        "##Load Data"
      ]
    },
    {
      "cell_type": "code",
      "metadata": {
        "id": "YblxG5gMn43T"
      },
      "source": [
        "npz = np.load('/content/Audiobooks_data_train.npz')\n",
        "train_inputs = npz['inputs'].astype(np.float)\n",
        "train_targets = npz['targets'].astype(np.int)\n",
        "\n",
        "npz = np.load('/content/Audiobooks_data_validation.npz')\n",
        "validation_inputs = npz['inputs'].astype(np.float)\n",
        "validation_targets = npz['targets'].astype(np.int)\n",
        "\n",
        "npz = np.load('/content/Audiobooks_data_test.npz')\n",
        "test_inputs = npz['inputs'].astype(np.float)\n",
        "test_targets = npz['targets'].astype(np.int)"
      ],
      "execution_count": null,
      "outputs": []
    },
    {
      "cell_type": "markdown",
      "metadata": {
        "id": "UwMAuNwnoyJs"
      },
      "source": [
        "##Build Model"
      ]
    },
    {
      "cell_type": "code",
      "metadata": {
        "colab": {
          "base_uri": "https://localhost:8080/"
        },
        "id": "bouH_0WqozfZ",
        "outputId": "6b757a85-2e74-48da-8de7-7a72cd161176"
      },
      "source": [
        "input_size = 10\n",
        "output_size = 2\n",
        "hidden_layer_size = 50\n",
        "\n",
        "model = tf.keras.Sequential([\n",
        "                             tf.keras.layers.Dense(hidden_layer_size, activation='relu'),\n",
        "                             tf.keras.layers.Dense(hidden_layer_size, activation='relu'),\n",
        "                             tf.keras.layers.Dense(hidden_layer_size, activation='relu'),\n",
        "                             tf.keras.layers.Dropout(.3),\n",
        "                             tf.keras.layers.Dense(output_size, activation ='softmax')\n",
        "                             ])\n",
        "\n",
        "model.compile(optimizer='adam', loss='sparse_categorical_crossentropy', metrics=['accuracy'])\n",
        "\n",
        "epoch = 100\n",
        "batch_size = 100\n",
        "\n",
        "early_stopping = tf.keras.callbacks.EarlyStopping(patience=5)\n",
        "\n",
        "model.fit(train_inputs,\n",
        "          train_targets,\n",
        "          epochs=epoch,\n",
        "          batch_size=batch_size,\n",
        "          callbacks=[early_stopping],\n",
        "          validation_data=(validation_inputs, validation_targets),\n",
        "          verbose=2)"
      ],
      "execution_count": null,
      "outputs": [
        {
          "output_type": "stream",
          "text": [
            "Epoch 1/100\n",
            "36/36 - 1s - loss: 0.6122 - accuracy: 0.6485 - val_loss: 0.5051 - val_accuracy: 0.7539\n",
            "Epoch 2/100\n",
            "36/36 - 0s - loss: 0.4668 - accuracy: 0.7558 - val_loss: 0.4058 - val_accuracy: 0.7897\n",
            "Epoch 3/100\n",
            "36/36 - 0s - loss: 0.4054 - accuracy: 0.7829 - val_loss: 0.3827 - val_accuracy: 0.7763\n",
            "Epoch 4/100\n",
            "36/36 - 0s - loss: 0.3796 - accuracy: 0.7918 - val_loss: 0.3601 - val_accuracy: 0.7875\n",
            "Epoch 5/100\n",
            "36/36 - 0s - loss: 0.3682 - accuracy: 0.7946 - val_loss: 0.3539 - val_accuracy: 0.8098\n",
            "Epoch 6/100\n",
            "36/36 - 0s - loss: 0.3596 - accuracy: 0.8039 - val_loss: 0.3568 - val_accuracy: 0.7830\n",
            "Epoch 7/100\n",
            "36/36 - 0s - loss: 0.3614 - accuracy: 0.7977 - val_loss: 0.3521 - val_accuracy: 0.7942\n",
            "Epoch 8/100\n",
            "36/36 - 0s - loss: 0.3550 - accuracy: 0.7994 - val_loss: 0.3371 - val_accuracy: 0.8233\n",
            "Epoch 9/100\n",
            "36/36 - 0s - loss: 0.3438 - accuracy: 0.8092 - val_loss: 0.3537 - val_accuracy: 0.7919\n",
            "Epoch 10/100\n",
            "36/36 - 0s - loss: 0.3428 - accuracy: 0.8092 - val_loss: 0.3528 - val_accuracy: 0.7897\n",
            "Epoch 11/100\n",
            "36/36 - 0s - loss: 0.3400 - accuracy: 0.8080 - val_loss: 0.3432 - val_accuracy: 0.7964\n",
            "Epoch 12/100\n",
            "36/36 - 0s - loss: 0.3420 - accuracy: 0.8108 - val_loss: 0.3417 - val_accuracy: 0.7808\n",
            "Epoch 13/100\n",
            "36/36 - 0s - loss: 0.3370 - accuracy: 0.8125 - val_loss: 0.3365 - val_accuracy: 0.8255\n",
            "Epoch 14/100\n",
            "36/36 - 0s - loss: 0.3369 - accuracy: 0.8114 - val_loss: 0.3412 - val_accuracy: 0.8076\n",
            "Epoch 15/100\n",
            "36/36 - 0s - loss: 0.3358 - accuracy: 0.8175 - val_loss: 0.3424 - val_accuracy: 0.7897\n",
            "Epoch 16/100\n",
            "36/36 - 0s - loss: 0.3305 - accuracy: 0.8181 - val_loss: 0.3329 - val_accuracy: 0.8098\n",
            "Epoch 17/100\n",
            "36/36 - 0s - loss: 0.3294 - accuracy: 0.8245 - val_loss: 0.3288 - val_accuracy: 0.8076\n",
            "Epoch 18/100\n",
            "36/36 - 0s - loss: 0.3279 - accuracy: 0.8220 - val_loss: 0.3425 - val_accuracy: 0.7942\n",
            "Epoch 19/100\n",
            "36/36 - 0s - loss: 0.3278 - accuracy: 0.8178 - val_loss: 0.3356 - val_accuracy: 0.7808\n",
            "Epoch 20/100\n",
            "36/36 - 0s - loss: 0.3314 - accuracy: 0.8156 - val_loss: 0.3283 - val_accuracy: 0.8121\n",
            "Epoch 21/100\n",
            "36/36 - 0s - loss: 0.3274 - accuracy: 0.8181 - val_loss: 0.3275 - val_accuracy: 0.8031\n",
            "Epoch 22/100\n",
            "36/36 - 0s - loss: 0.3224 - accuracy: 0.8248 - val_loss: 0.3401 - val_accuracy: 0.8009\n",
            "Epoch 23/100\n",
            "36/36 - 0s - loss: 0.3308 - accuracy: 0.8139 - val_loss: 0.3433 - val_accuracy: 0.7942\n",
            "Epoch 24/100\n",
            "36/36 - 0s - loss: 0.3270 - accuracy: 0.8212 - val_loss: 0.3254 - val_accuracy: 0.8143\n",
            "Epoch 25/100\n",
            "36/36 - 0s - loss: 0.3202 - accuracy: 0.8256 - val_loss: 0.3225 - val_accuracy: 0.8009\n",
            "Epoch 26/100\n",
            "36/36 - 0s - loss: 0.3259 - accuracy: 0.8209 - val_loss: 0.3193 - val_accuracy: 0.8121\n",
            "Epoch 27/100\n",
            "36/36 - 0s - loss: 0.3190 - accuracy: 0.8226 - val_loss: 0.3259 - val_accuracy: 0.8143\n",
            "Epoch 28/100\n",
            "36/36 - 0s - loss: 0.3214 - accuracy: 0.8201 - val_loss: 0.3311 - val_accuracy: 0.7987\n",
            "Epoch 29/100\n",
            "36/36 - 0s - loss: 0.3249 - accuracy: 0.8178 - val_loss: 0.3252 - val_accuracy: 0.8143\n",
            "Epoch 30/100\n",
            "36/36 - 0s - loss: 0.3262 - accuracy: 0.8229 - val_loss: 0.3327 - val_accuracy: 0.8009\n",
            "Epoch 31/100\n",
            "36/36 - 0s - loss: 0.3200 - accuracy: 0.8268 - val_loss: 0.3233 - val_accuracy: 0.8210\n"
          ],
          "name": "stdout"
        },
        {
          "output_type": "execute_result",
          "data": {
            "text/plain": [
              "<tensorflow.python.keras.callbacks.History at 0x7ff41937d9d0>"
            ]
          },
          "metadata": {
            "tags": []
          },
          "execution_count": 62
        }
      ]
    },
    {
      "cell_type": "markdown",
      "metadata": {
        "id": "k_mVOq4Gr7O8"
      },
      "source": [
        "##Test Model"
      ]
    },
    {
      "cell_type": "code",
      "metadata": {
        "colab": {
          "base_uri": "https://localhost:8080/"
        },
        "id": "6aVpO6n6r6UY",
        "outputId": "91f5176b-ee40-49ad-9adb-f7a227e496ed"
      },
      "source": [
        "test_loss, test_accuracy = model.evaluate(test_inputs, test_targets)"
      ],
      "execution_count": null,
      "outputs": [
        {
          "output_type": "stream",
          "text": [
            "14/14 [==============================] - 0s 2ms/step - loss: 0.3142 - accuracy: 0.8326\n"
          ],
          "name": "stdout"
        }
      ]
    }
  ]
}